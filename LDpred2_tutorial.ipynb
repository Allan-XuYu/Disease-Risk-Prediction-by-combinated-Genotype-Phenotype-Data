{
 "cells": [
  {
   "cell_type": "markdown",
   "id": "jewish-frost",
   "metadata": {},
   "source": [
    "# This is a copy for self-learning for [Computing polygenic scores using LDpred2](https://privefl.github.io/bigsnpr/articles/LDpred2.html#downloading-genotype-data-and-summary-statistics-1)"
   ]
  },
  {
   "cell_type": "markdown",
   "id": "animated-bahrain",
   "metadata": {},
   "source": [
    "Note that most of the algorithms of this package don’t handle **missing values**. You can use snp_fastImpute() (taking a few hours for a chip of 15K x 300K) and snp_fastImputeSimple() (taking a few minutes only) to impute missing values of genotyped variants."
   ]
  },
  {
   "cell_type": "markdown",
   "id": "colonial-rover",
   "metadata": {},
   "source": [
    "## Downloading genotype data and summary statistics\n",
    "You can download data and unzip files in R. We store those files in a directory called \"tmp-data\" here.\n",
    "\n",
    "You can see there how we generated these data from the 1000 Genomes project. Note that these data are for educational purposes only, not for use as a reference panel.\n",
    "\n",
    "First, you need to read genotype data from the PLINK files (or BGEN files) as well as the text file containing summary statistics."
   ]
  },
  {
   "cell_type": "code",
   "execution_count": 1,
   "id": "brown-boxing",
   "metadata": {},
   "outputs": [
    {
     "name": "stderr",
     "output_type": "stream",
     "text": [
      "Loading required package: bigstatsr\n",
      "\n"
     ]
    }
   ],
   "source": [
    "library(bigsnpr)"
   ]
  },
  {
   "cell_type": "markdown",
   "id": "olive-atlantic",
   "metadata": {},
   "source": [
    "+ Self-dir"
   ]
  },
  {
   "cell_type": "code",
   "execution_count": 2,
   "id": "furnished-treasurer",
   "metadata": {},
   "outputs": [],
   "source": [
    "path <- \"C:\\\\data\\\\tmp-data\\\\\""
   ]
  },
  {
   "cell_type": "code",
   "execution_count": 3,
   "id": "homeless-control",
   "metadata": {},
   "outputs": [
    {
     "ename": "ERROR",
     "evalue": "Error: File 'C:\\data\\tmp-data\\public-data.bk' already exists.\n",
     "output_type": "error",
     "traceback": [
      "Error: File 'C:\\data\\tmp-data\\public-data.bk' already exists.\nTraceback:\n",
      "1. snp_readBed(\"C:\\\\data\\\\tmp-data\\\\public-data.bed\")",
      "2. assert_noexist(paste0(backingfile, \".bk\"))",
      "3. stop2(\"File '%s' already exists.\", file)",
      "4. stop(sprintf(...), call. = FALSE)"
     ]
    }
   ],
   "source": [
    "snp_readBed(\"C:\\\\data\\\\tmp-data\\\\public-data.bed\")"
   ]
  },
  {
   "cell_type": "code",
   "execution_count": 4,
   "id": "identical-genre",
   "metadata": {},
   "outputs": [
    {
     "name": "stdout",
     "output_type": "stream",
     "text": [
      "List of 3\n",
      " $ genotypes:Reference class 'FBM.code256' [package \"bigstatsr\"] with 15 fields\n",
      "  ..and 26 methods, of which 12 are  possibly relevant:\n",
      "  ..  add_columns, as.FBM, bm, bm.desc, check_dimensions,\n",
      "  ..  check_write_permissions, copy#envRefClass, initialize, initialize#FBM,\n",
      "  ..  save, show#envRefClass, show#FBM\n",
      " $ fam      :'data.frame':\t559 obs. of  6 variables:\n",
      "  ..$ family.ID  : chr [1:559] \"EUR_GBR\" \"EUR_GBR\" \"EUR_GBR\" \"EUR_GBR\" ...\n",
      "  ..$ sample.ID  : chr [1:559] \"HG00096\" \"HG00097\" \"HG00099\" \"HG00100\" ...\n",
      "  ..$ paternal.ID: int [1:559] 0 0 0 0 0 0 0 0 0 0 ...\n",
      "  ..$ maternal.ID: int [1:559] 0 0 0 0 0 0 0 0 0 0 ...\n",
      "  ..$ sex        : int [1:559] 1 2 2 2 1 2 1 2 2 1 ...\n",
      "  ..$ affection  : int [1:559] 1 2 1 1 1 1 2 1 2 1 ...\n",
      " $ map      :'data.frame':\t130816 obs. of  6 variables:\n",
      "  ..$ chromosome  : int [1:130816] 2 2 2 2 2 2 2 2 2 2 ...\n",
      "  ..$ marker.ID   : chr [1:130816] \"rs13400442\" \"rs7594567\" \"rs7597758\" \"rs13\"..\n",
      "  ..$ genetic.dist: int [1:130816] 0 0 0 0 0 0 0 0 0 0 ...\n",
      "  ..$ physical.pos: int [1:130816] 18506 21833 22398 28228 32003 32005 36787 5..\n",
      "  ..$ allele1     : chr [1:130816] \"C\" \"G\" \"T\" \"A\" ...\n",
      "  ..$ allele2     : chr [1:130816] \"T\" \"C\" \"C\" \"G\" ...\n",
      " - attr(*, \"class\")= chr \"bigSNP\"\n"
     ]
    }
   ],
   "source": [
    "obj.bigSNP <- snp_attach(\"C:\\\\data\\\\tmp-data\\\\public-data.rds\")\n",
    "# See how the file looks like\n",
    "str(obj.bigSNP, max.level = 2, strict.width = \"cut\")"
   ]
  },
  {
   "cell_type": "code",
   "execution_count": 5,
   "id": "interested-technical",
   "metadata": {},
   "outputs": [
    {
     "name": "stdout",
     "output_type": "stream",
     "text": [
      "'data.frame':\t130816 obs. of  10 variables:\n",
      " $ chromosome  : int  2 2 2 2 2 2 2 2 2 2 ...\n",
      " $ marker.ID   : chr  \"rs13400442\" \"rs7594567\" \"rs7597758\" \"rs13383216\" ...\n",
      " $ physical.pos: int  18506 21833 22398 28228 32003 32005 36787 55237 56916 61687 ...\n",
      " $ allele1     : chr  \"C\" \"G\" \"T\" \"A\" ...\n",
      " $ allele2     : chr  \"T\" \"C\" \"C\" \"G\" ...\n",
      " $ beta        : num  -0.073 0.0439 -0.3325 -0.5445 -0.4881 ...\n",
      " $ beta_se     : num  0.277 0.248 0.192 0.247 0.242 ...\n",
      " $ n_case      : int  157 157 157 157 157 157 157 157 157 157 ...\n",
      " $ n_control   : int  402 402 402 402 402 402 402 402 402 402 ...\n",
      " $ p           : num  0.7925 0.8593 0.0846 0.028 0.0439 ...\n"
     ]
    }
   ],
   "source": [
    "# Get aliases for useful slots\n",
    "G   <- obj.bigSNP$genotypes\n",
    "CHR <- obj.bigSNP$map$chromosome\n",
    "POS <- obj.bigSNP$map$physical.pos\n",
    "y   <- obj.bigSNP$fam$affection - 1\n",
    "NCORES <- nb_cores()\n",
    "# Read external summary statistics\n",
    "sumstats <- bigreadr::fread2(paste(path,\"public-data-sumstats.txt\",sep=''))\n",
    "str(sumstats)"
   ]
  },
  {
   "cell_type": "markdown",
   "id": "capable-villa",
   "metadata": {},
   "source": [
    "We split genotype data using part of the data to choose hyper-parameters and another part of the data to evaluate statistical properties of polygenic risk score such as AUC. Here we consider that there are 400 individuals to be used as validation set to tune hyper-parameters for LDpred2-grid. The other 159 individuals are used as test set to evaluate the final models."
   ]
  },
  {
   "cell_type": "code",
   "execution_count": 6,
   "id": "young-better",
   "metadata": {},
   "outputs": [],
   "source": [
    "set.seed(1)\n",
    "ind.val <- sample(nrow(G), 400)\n",
    "ind.test <- setdiff(rows_along(G), ind.val)"
   ]
  },
  {
   "cell_type": "markdown",
   "id": "distant-entry",
   "metadata": {},
   "source": [
    "## Matching variants between genotype data and summary statistics\n",
    "To match variants contained in genotype data and summary statistics, the variables \"chr\" (chromosome number), \"pos\" (genetic position), \"a0\" (reference allele) and \"a1\" (derived allele) should be available in the summary statistics and in the genotype data. These 4 variables are used to match variants between the two data frames."
   ]
  },
  {
   "cell_type": "code",
   "execution_count": 7,
   "id": "imported-alignment",
   "metadata": {},
   "outputs": [
    {
     "name": "stderr",
     "output_type": "stream",
     "text": [
      "130,816 variants to be matched.\n",
      "\n",
      "18,932 ambiguous SNPs have been removed.\n",
      "\n",
      "Some duplicates were removed.\n",
      "\n",
      "111,866 variants have been matched; 0 were flipped and 0 were reversed.\n",
      "\n"
     ]
    }
   ],
   "source": [
    "sumstats$n_eff <- 4 / (1 / sumstats$n_case + 1 / sumstats$n_control)\n",
    "sumstats$n_case <- sumstats$n_control <- NULL\n",
    "names(sumstats) <- c(\"chr\", \"rsid\", \"pos\", \"a0\", \"a1\", \"beta\", \"beta_se\", \"p\", \"n_eff\")\n",
    "map <- obj.bigSNP$map[-(2:3)]\n",
    "names(map) <- c(\"chr\", \"pos\", \"a0\", \"a1\")\n",
    "info_snp <- snp_match(sumstats, map)\n",
    "#info_snp <- snp_match(sumstats, map, strand_flip = FALSE)"
   ]
  },
  {
   "cell_type": "markdown",
   "id": "angry-relationship",
   "metadata": {},
   "source": [
    "## Computing LDpred2 scores for one chromosome\n",
    "Some quality control on summary statistics is highly recommended (see paper).\n",
    "\n",
    "#### Correlation\n",
    "First, you need to compute correlations between variants. We recommend to use a window size of 3 cM (see ref)."
   ]
  },
  {
   "cell_type": "code",
   "execution_count": 9,
   "id": "competitive-phoenix",
   "metadata": {},
   "outputs": [],
   "source": [
    "POS2 <- snp_asGeneticPos(CHR, POS, dir = path, ncores = NCORES)"
   ]
  },
  {
   "cell_type": "code",
   "execution_count": 10,
   "id": "hollywood-sheffield",
   "metadata": {},
   "outputs": [],
   "source": [
    "## indices in info_snp\n",
    "ind.chr <- which(info_snp$chr == 2)         \n",
    "df_beta <- info_snp[ind.chr, c(\"beta\", \"beta_se\", \"n_eff\")]"
   ]
  },
  {
   "cell_type": "code",
   "execution_count": 13,
   "id": "adapted-novelty",
   "metadata": {},
   "outputs": [],
   "source": [
    "## indices in G\n",
    "ind.chr2 <- info_snp$`_NUM_ID_`[ind.chr]    \n",
    "corr0 <- snp_cor(G, ind.col = ind.chr2, ncores = NCORES, \n",
    "                 infos.pos = POS2[ind.chr2], size = 3 / 1000)"
   ]
  },
  {
   "cell_type": "code",
   "execution_count": 14,
   "id": "floral-frame",
   "metadata": {},
   "outputs": [],
   "source": [
    "tmp <- tempfile(tmpdir = path)\n",
    "if (packageVersion(\"bigsnpr\") >= package_version(\"1.4.9\") &&\n",
    "    packageVersion(\"bigsparser\") >= package_version(\"0.4.0\")) {\n",
    "  corr <- as_SFBM(corr0, tmp)\n",
    "} else {\n",
    "  corr <- bigsparser::as_SFBM(as(corr0, \"dgCMatrix\"), tmp)\n",
    "}"
   ]
  },
  {
   "cell_type": "markdown",
   "id": "automated-jacket",
   "metadata": {},
   "source": [
    "Here, we have built the LD matrix using variants from one chromosome only. In practice, you need to build it for variants from all chromosomes. Please look at the code linked at the beginning.\n"
   ]
  },
  {
   "cell_type": "markdown",
   "id": "headed-panic",
   "metadata": {},
   "source": [
    "## Infinitesimal model"
   ]
  },
  {
   "cell_type": "code",
   "execution_count": 15,
   "id": "viral-novelty",
   "metadata": {},
   "outputs": [
    {
     "data": {
      "text/html": [
       "<style>\n",
       ".dl-inline {width: auto; margin:0; padding: 0}\n",
       ".dl-inline>dt, .dl-inline>dd {float: none; width: auto; display: inline-block}\n",
       ".dl-inline>dt::after {content: \":\\0020\"; padding-right: .5ex}\n",
       ".dl-inline>dt:not(:first-of-type) {padding-left: .5ex}\n",
       "</style><dl class=dl-inline><dt>int</dt><dd>1</dd><dt>h2</dt><dd>0.0975846128116684</dd></dl>\n"
      ],
      "text/latex": [
       "\\begin{description*}\n",
       "\\item[int] 1\n",
       "\\item[h2] 0.0975846128116684\n",
       "\\end{description*}\n"
      ],
      "text/markdown": [
       "int\n",
       ":   1h2\n",
       ":   0.0975846128116684\n",
       "\n"
      ],
      "text/plain": [
       "       int         h2 \n",
       "1.00000000 0.09758461 "
      ]
     },
     "metadata": {},
     "output_type": "display_data"
    }
   ],
   "source": [
    "(ldsc <- snp_ldsc2(corr0, df_beta))"
   ]
  },
  {
   "cell_type": "code",
   "execution_count": 16,
   "id": "interpreted-barrel",
   "metadata": {},
   "outputs": [],
   "source": [
    "h2_est <- ldsc[[\"h2\"]]"
   ]
  },
  {
   "cell_type": "code",
   "execution_count": 17,
   "id": "convinced-substance",
   "metadata": {},
   "outputs": [],
   "source": [
    "beta_inf <- snp_ldpred2_inf(corr, df_beta, h2 = h2_est)"
   ]
  },
  {
   "cell_type": "code",
   "execution_count": 18,
   "id": "young-preservation",
   "metadata": {},
   "outputs": [
    {
     "data": {
      "text/html": [
       "<style>\n",
       ".dl-inline {width: auto; margin:0; padding: 0}\n",
       ".dl-inline>dt, .dl-inline>dd {float: none; width: auto; display: inline-block}\n",
       ".dl-inline>dt::after {content: \":\\0020\"; padding-right: .5ex}\n",
       ".dl-inline>dt:not(:first-of-type) {padding-left: .5ex}\n",
       "</style><dl class=dl-inline><dt>Mean</dt><dd>0.668863919833695</dd><dt>2.5%</dt><dd>0.575416027062046</dd><dt>97.5%</dt><dd>0.759200278754982</dd><dt>Sd</dt><dd>0.0474585869420211</dd></dl>\n"
      ],
      "text/latex": [
       "\\begin{description*}\n",
       "\\item[Mean] 0.668863919833695\n",
       "\\item[2.5\\textbackslash{}\\%] 0.575416027062046\n",
       "\\item[97.5\\textbackslash{}\\%] 0.759200278754982\n",
       "\\item[Sd] 0.0474585869420211\n",
       "\\end{description*}\n"
      ],
      "text/markdown": [
       "Mean\n",
       ":   0.6688639198336952.5%\n",
       ":   0.57541602706204697.5%\n",
       ":   0.759200278754982Sd\n",
       ":   0.0474585869420211\n",
       "\n"
      ],
      "text/plain": [
       "      Mean       2.5%      97.5%         Sd \n",
       "0.66886392 0.57541603 0.75920028 0.04745859 "
      ]
     },
     "metadata": {},
     "output_type": "display_data"
    }
   ],
   "source": [
    "pred_inf <- big_prodVec(G, beta_inf, ind.row = ind.test, ind.col = ind.chr2)\n",
    "AUCBoot(pred_inf, y[ind.test])"
   ]
  },
  {
   "cell_type": "markdown",
   "id": "colored-entity",
   "metadata": {},
   "source": [
    "## Grid of models\n",
    "In practice, we recommend to test multiple values for h2 and p."
   ]
  },
  {
   "cell_type": "code",
   "execution_count": 19,
   "id": "sublime-pride",
   "metadata": {},
   "outputs": [
    {
     "data": {
      "text/html": [
       "<style>\n",
       ".list-inline {list-style: none; margin:0; padding: 0}\n",
       ".list-inline>li {display: inline-block}\n",
       ".list-inline>li:not(:last-child)::after {content: \"\\00b7\"; padding: 0 .5ex}\n",
       "</style>\n",
       "<ol class=list-inline><li>0.0683</li><li>0.0976</li><li>0.1366</li></ol>\n"
      ],
      "text/latex": [
       "\\begin{enumerate*}\n",
       "\\item 0.0683\n",
       "\\item 0.0976\n",
       "\\item 0.1366\n",
       "\\end{enumerate*}\n"
      ],
      "text/markdown": [
       "1. 0.0683\n",
       "2. 0.0976\n",
       "3. 0.1366\n",
       "\n",
       "\n"
      ],
      "text/plain": [
       "[1] 0.0683 0.0976 0.1366"
      ]
     },
     "metadata": {},
     "output_type": "display_data"
    }
   ],
   "source": [
    "(h2_seq <- round(h2_est * c(0.7, 1, 1.4), 4))"
   ]
  },
  {
   "cell_type": "code",
   "execution_count": 20,
   "id": "settled-cycling",
   "metadata": {},
   "outputs": [
    {
     "data": {
      "text/html": [
       "<style>\n",
       ".list-inline {list-style: none; margin:0; padding: 0}\n",
       ".list-inline>li {display: inline-block}\n",
       ".list-inline>li:not(:last-child)::after {content: \"\\00b7\"; padding: 0 .5ex}\n",
       "</style>\n",
       "<ol class=list-inline><li>1e-04</li><li>0.00018</li><li>0.00032</li><li>0.00056</li><li>0.001</li><li>0.0018</li><li>0.0032</li><li>0.0056</li><li>0.01</li><li>0.018</li><li>0.032</li><li>0.056</li><li>0.1</li><li>0.18</li><li>0.32</li><li>0.56</li><li>1</li></ol>\n"
      ],
      "text/latex": [
       "\\begin{enumerate*}\n",
       "\\item 1e-04\n",
       "\\item 0.00018\n",
       "\\item 0.00032\n",
       "\\item 0.00056\n",
       "\\item 0.001\n",
       "\\item 0.0018\n",
       "\\item 0.0032\n",
       "\\item 0.0056\n",
       "\\item 0.01\n",
       "\\item 0.018\n",
       "\\item 0.032\n",
       "\\item 0.056\n",
       "\\item 0.1\n",
       "\\item 0.18\n",
       "\\item 0.32\n",
       "\\item 0.56\n",
       "\\item 1\n",
       "\\end{enumerate*}\n"
      ],
      "text/markdown": [
       "1. 1e-04\n",
       "2. 0.00018\n",
       "3. 0.00032\n",
       "4. 0.00056\n",
       "5. 0.001\n",
       "6. 0.0018\n",
       "7. 0.0032\n",
       "8. 0.0056\n",
       "9. 0.01\n",
       "10. 0.018\n",
       "11. 0.032\n",
       "12. 0.056\n",
       "13. 0.1\n",
       "14. 0.18\n",
       "15. 0.32\n",
       "16. 0.56\n",
       "17. 1\n",
       "\n",
       "\n"
      ],
      "text/plain": [
       " [1] 0.00010 0.00018 0.00032 0.00056 0.00100 0.00180 0.00320 0.00560 0.01000\n",
       "[10] 0.01800 0.03200 0.05600 0.10000 0.18000 0.32000 0.56000 1.00000"
      ]
     },
     "metadata": {},
     "output_type": "display_data"
    }
   ],
   "source": [
    "(p_seq <- signif(seq_log(1e-4, 1, length.out = 17), 2))"
   ]
  },
  {
   "cell_type": "code",
   "execution_count": 21,
   "id": "placed-wound",
   "metadata": {},
   "outputs": [
    {
     "data": {
      "text/html": [
       "<table class=\"dataframe\">\n",
       "<caption>A data.frame: 102 × 3</caption>\n",
       "<thead>\n",
       "\t<tr><th scope=col>p</th><th scope=col>h2</th><th scope=col>sparse</th></tr>\n",
       "\t<tr><th scope=col>&lt;dbl&gt;</th><th scope=col>&lt;dbl&gt;</th><th scope=col>&lt;lgl&gt;</th></tr>\n",
       "</thead>\n",
       "<tbody>\n",
       "\t<tr><td>0.00010</td><td>0.0683</td><td>FALSE</td></tr>\n",
       "\t<tr><td>0.00018</td><td>0.0683</td><td>FALSE</td></tr>\n",
       "\t<tr><td>0.00032</td><td>0.0683</td><td>FALSE</td></tr>\n",
       "\t<tr><td>0.00056</td><td>0.0683</td><td>FALSE</td></tr>\n",
       "\t<tr><td>0.00100</td><td>0.0683</td><td>FALSE</td></tr>\n",
       "\t<tr><td>0.00180</td><td>0.0683</td><td>FALSE</td></tr>\n",
       "\t<tr><td>0.00320</td><td>0.0683</td><td>FALSE</td></tr>\n",
       "\t<tr><td>0.00560</td><td>0.0683</td><td>FALSE</td></tr>\n",
       "\t<tr><td>0.01000</td><td>0.0683</td><td>FALSE</td></tr>\n",
       "\t<tr><td>0.01800</td><td>0.0683</td><td>FALSE</td></tr>\n",
       "\t<tr><td>0.03200</td><td>0.0683</td><td>FALSE</td></tr>\n",
       "\t<tr><td>0.05600</td><td>0.0683</td><td>FALSE</td></tr>\n",
       "\t<tr><td>0.10000</td><td>0.0683</td><td>FALSE</td></tr>\n",
       "\t<tr><td>0.18000</td><td>0.0683</td><td>FALSE</td></tr>\n",
       "\t<tr><td>0.32000</td><td>0.0683</td><td>FALSE</td></tr>\n",
       "\t<tr><td>0.56000</td><td>0.0683</td><td>FALSE</td></tr>\n",
       "\t<tr><td>1.00000</td><td>0.0683</td><td>FALSE</td></tr>\n",
       "\t<tr><td>0.00010</td><td>0.0976</td><td>FALSE</td></tr>\n",
       "\t<tr><td>0.00018</td><td>0.0976</td><td>FALSE</td></tr>\n",
       "\t<tr><td>0.00032</td><td>0.0976</td><td>FALSE</td></tr>\n",
       "\t<tr><td>0.00056</td><td>0.0976</td><td>FALSE</td></tr>\n",
       "\t<tr><td>0.00100</td><td>0.0976</td><td>FALSE</td></tr>\n",
       "\t<tr><td>0.00180</td><td>0.0976</td><td>FALSE</td></tr>\n",
       "\t<tr><td>0.00320</td><td>0.0976</td><td>FALSE</td></tr>\n",
       "\t<tr><td>0.00560</td><td>0.0976</td><td>FALSE</td></tr>\n",
       "\t<tr><td>0.01000</td><td>0.0976</td><td>FALSE</td></tr>\n",
       "\t<tr><td>0.01800</td><td>0.0976</td><td>FALSE</td></tr>\n",
       "\t<tr><td>0.03200</td><td>0.0976</td><td>FALSE</td></tr>\n",
       "\t<tr><td>0.05600</td><td>0.0976</td><td>FALSE</td></tr>\n",
       "\t<tr><td>0.10000</td><td>0.0976</td><td>FALSE</td></tr>\n",
       "\t<tr><td>...</td><td>...</td><td>...</td></tr>\n",
       "\t<tr><td>0.00100</td><td>0.0976</td><td>TRUE</td></tr>\n",
       "\t<tr><td>0.00180</td><td>0.0976</td><td>TRUE</td></tr>\n",
       "\t<tr><td>0.00320</td><td>0.0976</td><td>TRUE</td></tr>\n",
       "\t<tr><td>0.00560</td><td>0.0976</td><td>TRUE</td></tr>\n",
       "\t<tr><td>0.01000</td><td>0.0976</td><td>TRUE</td></tr>\n",
       "\t<tr><td>0.01800</td><td>0.0976</td><td>TRUE</td></tr>\n",
       "\t<tr><td>0.03200</td><td>0.0976</td><td>TRUE</td></tr>\n",
       "\t<tr><td>0.05600</td><td>0.0976</td><td>TRUE</td></tr>\n",
       "\t<tr><td>0.10000</td><td>0.0976</td><td>TRUE</td></tr>\n",
       "\t<tr><td>0.18000</td><td>0.0976</td><td>TRUE</td></tr>\n",
       "\t<tr><td>0.32000</td><td>0.0976</td><td>TRUE</td></tr>\n",
       "\t<tr><td>0.56000</td><td>0.0976</td><td>TRUE</td></tr>\n",
       "\t<tr><td>1.00000</td><td>0.0976</td><td>TRUE</td></tr>\n",
       "\t<tr><td>0.00010</td><td>0.1366</td><td>TRUE</td></tr>\n",
       "\t<tr><td>0.00018</td><td>0.1366</td><td>TRUE</td></tr>\n",
       "\t<tr><td>0.00032</td><td>0.1366</td><td>TRUE</td></tr>\n",
       "\t<tr><td>0.00056</td><td>0.1366</td><td>TRUE</td></tr>\n",
       "\t<tr><td>0.00100</td><td>0.1366</td><td>TRUE</td></tr>\n",
       "\t<tr><td>0.00180</td><td>0.1366</td><td>TRUE</td></tr>\n",
       "\t<tr><td>0.00320</td><td>0.1366</td><td>TRUE</td></tr>\n",
       "\t<tr><td>0.00560</td><td>0.1366</td><td>TRUE</td></tr>\n",
       "\t<tr><td>0.01000</td><td>0.1366</td><td>TRUE</td></tr>\n",
       "\t<tr><td>0.01800</td><td>0.1366</td><td>TRUE</td></tr>\n",
       "\t<tr><td>0.03200</td><td>0.1366</td><td>TRUE</td></tr>\n",
       "\t<tr><td>0.05600</td><td>0.1366</td><td>TRUE</td></tr>\n",
       "\t<tr><td>0.10000</td><td>0.1366</td><td>TRUE</td></tr>\n",
       "\t<tr><td>0.18000</td><td>0.1366</td><td>TRUE</td></tr>\n",
       "\t<tr><td>0.32000</td><td>0.1366</td><td>TRUE</td></tr>\n",
       "\t<tr><td>0.56000</td><td>0.1366</td><td>TRUE</td></tr>\n",
       "\t<tr><td>1.00000</td><td>0.1366</td><td>TRUE</td></tr>\n",
       "</tbody>\n",
       "</table>\n"
      ],
      "text/latex": [
       "A data.frame: 102 × 3\n",
       "\\begin{tabular}{lll}\n",
       " p & h2 & sparse\\\\\n",
       " <dbl> & <dbl> & <lgl>\\\\\n",
       "\\hline\n",
       "\t 0.00010 & 0.0683 & FALSE\\\\\n",
       "\t 0.00018 & 0.0683 & FALSE\\\\\n",
       "\t 0.00032 & 0.0683 & FALSE\\\\\n",
       "\t 0.00056 & 0.0683 & FALSE\\\\\n",
       "\t 0.00100 & 0.0683 & FALSE\\\\\n",
       "\t 0.00180 & 0.0683 & FALSE\\\\\n",
       "\t 0.00320 & 0.0683 & FALSE\\\\\n",
       "\t 0.00560 & 0.0683 & FALSE\\\\\n",
       "\t 0.01000 & 0.0683 & FALSE\\\\\n",
       "\t 0.01800 & 0.0683 & FALSE\\\\\n",
       "\t 0.03200 & 0.0683 & FALSE\\\\\n",
       "\t 0.05600 & 0.0683 & FALSE\\\\\n",
       "\t 0.10000 & 0.0683 & FALSE\\\\\n",
       "\t 0.18000 & 0.0683 & FALSE\\\\\n",
       "\t 0.32000 & 0.0683 & FALSE\\\\\n",
       "\t 0.56000 & 0.0683 & FALSE\\\\\n",
       "\t 1.00000 & 0.0683 & FALSE\\\\\n",
       "\t 0.00010 & 0.0976 & FALSE\\\\\n",
       "\t 0.00018 & 0.0976 & FALSE\\\\\n",
       "\t 0.00032 & 0.0976 & FALSE\\\\\n",
       "\t 0.00056 & 0.0976 & FALSE\\\\\n",
       "\t 0.00100 & 0.0976 & FALSE\\\\\n",
       "\t 0.00180 & 0.0976 & FALSE\\\\\n",
       "\t 0.00320 & 0.0976 & FALSE\\\\\n",
       "\t 0.00560 & 0.0976 & FALSE\\\\\n",
       "\t 0.01000 & 0.0976 & FALSE\\\\\n",
       "\t 0.01800 & 0.0976 & FALSE\\\\\n",
       "\t 0.03200 & 0.0976 & FALSE\\\\\n",
       "\t 0.05600 & 0.0976 & FALSE\\\\\n",
       "\t 0.10000 & 0.0976 & FALSE\\\\\n",
       "\t ... & ... & ...\\\\\n",
       "\t 0.00100 & 0.0976 & TRUE\\\\\n",
       "\t 0.00180 & 0.0976 & TRUE\\\\\n",
       "\t 0.00320 & 0.0976 & TRUE\\\\\n",
       "\t 0.00560 & 0.0976 & TRUE\\\\\n",
       "\t 0.01000 & 0.0976 & TRUE\\\\\n",
       "\t 0.01800 & 0.0976 & TRUE\\\\\n",
       "\t 0.03200 & 0.0976 & TRUE\\\\\n",
       "\t 0.05600 & 0.0976 & TRUE\\\\\n",
       "\t 0.10000 & 0.0976 & TRUE\\\\\n",
       "\t 0.18000 & 0.0976 & TRUE\\\\\n",
       "\t 0.32000 & 0.0976 & TRUE\\\\\n",
       "\t 0.56000 & 0.0976 & TRUE\\\\\n",
       "\t 1.00000 & 0.0976 & TRUE\\\\\n",
       "\t 0.00010 & 0.1366 & TRUE\\\\\n",
       "\t 0.00018 & 0.1366 & TRUE\\\\\n",
       "\t 0.00032 & 0.1366 & TRUE\\\\\n",
       "\t 0.00056 & 0.1366 & TRUE\\\\\n",
       "\t 0.00100 & 0.1366 & TRUE\\\\\n",
       "\t 0.00180 & 0.1366 & TRUE\\\\\n",
       "\t 0.00320 & 0.1366 & TRUE\\\\\n",
       "\t 0.00560 & 0.1366 & TRUE\\\\\n",
       "\t 0.01000 & 0.1366 & TRUE\\\\\n",
       "\t 0.01800 & 0.1366 & TRUE\\\\\n",
       "\t 0.03200 & 0.1366 & TRUE\\\\\n",
       "\t 0.05600 & 0.1366 & TRUE\\\\\n",
       "\t 0.10000 & 0.1366 & TRUE\\\\\n",
       "\t 0.18000 & 0.1366 & TRUE\\\\\n",
       "\t 0.32000 & 0.1366 & TRUE\\\\\n",
       "\t 0.56000 & 0.1366 & TRUE\\\\\n",
       "\t 1.00000 & 0.1366 & TRUE\\\\\n",
       "\\end{tabular}\n"
      ],
      "text/markdown": [
       "\n",
       "A data.frame: 102 × 3\n",
       "\n",
       "| p &lt;dbl&gt; | h2 &lt;dbl&gt; | sparse &lt;lgl&gt; |\n",
       "|---|---|---|\n",
       "| 0.00010 | 0.0683 | FALSE |\n",
       "| 0.00018 | 0.0683 | FALSE |\n",
       "| 0.00032 | 0.0683 | FALSE |\n",
       "| 0.00056 | 0.0683 | FALSE |\n",
       "| 0.00100 | 0.0683 | FALSE |\n",
       "| 0.00180 | 0.0683 | FALSE |\n",
       "| 0.00320 | 0.0683 | FALSE |\n",
       "| 0.00560 | 0.0683 | FALSE |\n",
       "| 0.01000 | 0.0683 | FALSE |\n",
       "| 0.01800 | 0.0683 | FALSE |\n",
       "| 0.03200 | 0.0683 | FALSE |\n",
       "| 0.05600 | 0.0683 | FALSE |\n",
       "| 0.10000 | 0.0683 | FALSE |\n",
       "| 0.18000 | 0.0683 | FALSE |\n",
       "| 0.32000 | 0.0683 | FALSE |\n",
       "| 0.56000 | 0.0683 | FALSE |\n",
       "| 1.00000 | 0.0683 | FALSE |\n",
       "| 0.00010 | 0.0976 | FALSE |\n",
       "| 0.00018 | 0.0976 | FALSE |\n",
       "| 0.00032 | 0.0976 | FALSE |\n",
       "| 0.00056 | 0.0976 | FALSE |\n",
       "| 0.00100 | 0.0976 | FALSE |\n",
       "| 0.00180 | 0.0976 | FALSE |\n",
       "| 0.00320 | 0.0976 | FALSE |\n",
       "| 0.00560 | 0.0976 | FALSE |\n",
       "| 0.01000 | 0.0976 | FALSE |\n",
       "| 0.01800 | 0.0976 | FALSE |\n",
       "| 0.03200 | 0.0976 | FALSE |\n",
       "| 0.05600 | 0.0976 | FALSE |\n",
       "| 0.10000 | 0.0976 | FALSE |\n",
       "| ... | ... | ... |\n",
       "| 0.00100 | 0.0976 | TRUE |\n",
       "| 0.00180 | 0.0976 | TRUE |\n",
       "| 0.00320 | 0.0976 | TRUE |\n",
       "| 0.00560 | 0.0976 | TRUE |\n",
       "| 0.01000 | 0.0976 | TRUE |\n",
       "| 0.01800 | 0.0976 | TRUE |\n",
       "| 0.03200 | 0.0976 | TRUE |\n",
       "| 0.05600 | 0.0976 | TRUE |\n",
       "| 0.10000 | 0.0976 | TRUE |\n",
       "| 0.18000 | 0.0976 | TRUE |\n",
       "| 0.32000 | 0.0976 | TRUE |\n",
       "| 0.56000 | 0.0976 | TRUE |\n",
       "| 1.00000 | 0.0976 | TRUE |\n",
       "| 0.00010 | 0.1366 | TRUE |\n",
       "| 0.00018 | 0.1366 | TRUE |\n",
       "| 0.00032 | 0.1366 | TRUE |\n",
       "| 0.00056 | 0.1366 | TRUE |\n",
       "| 0.00100 | 0.1366 | TRUE |\n",
       "| 0.00180 | 0.1366 | TRUE |\n",
       "| 0.00320 | 0.1366 | TRUE |\n",
       "| 0.00560 | 0.1366 | TRUE |\n",
       "| 0.01000 | 0.1366 | TRUE |\n",
       "| 0.01800 | 0.1366 | TRUE |\n",
       "| 0.03200 | 0.1366 | TRUE |\n",
       "| 0.05600 | 0.1366 | TRUE |\n",
       "| 0.10000 | 0.1366 | TRUE |\n",
       "| 0.18000 | 0.1366 | TRUE |\n",
       "| 0.32000 | 0.1366 | TRUE |\n",
       "| 0.56000 | 0.1366 | TRUE |\n",
       "| 1.00000 | 0.1366 | TRUE |\n",
       "\n"
      ],
      "text/plain": [
       "    p       h2     sparse\n",
       "1   0.00010 0.0683 FALSE \n",
       "2   0.00018 0.0683 FALSE \n",
       "3   0.00032 0.0683 FALSE \n",
       "4   0.00056 0.0683 FALSE \n",
       "5   0.00100 0.0683 FALSE \n",
       "6   0.00180 0.0683 FALSE \n",
       "7   0.00320 0.0683 FALSE \n",
       "8   0.00560 0.0683 FALSE \n",
       "9   0.01000 0.0683 FALSE \n",
       "10  0.01800 0.0683 FALSE \n",
       "11  0.03200 0.0683 FALSE \n",
       "12  0.05600 0.0683 FALSE \n",
       "13  0.10000 0.0683 FALSE \n",
       "14  0.18000 0.0683 FALSE \n",
       "15  0.32000 0.0683 FALSE \n",
       "16  0.56000 0.0683 FALSE \n",
       "17  1.00000 0.0683 FALSE \n",
       "18  0.00010 0.0976 FALSE \n",
       "19  0.00018 0.0976 FALSE \n",
       "20  0.00032 0.0976 FALSE \n",
       "21  0.00056 0.0976 FALSE \n",
       "22  0.00100 0.0976 FALSE \n",
       "23  0.00180 0.0976 FALSE \n",
       "24  0.00320 0.0976 FALSE \n",
       "25  0.00560 0.0976 FALSE \n",
       "26  0.01000 0.0976 FALSE \n",
       "27  0.01800 0.0976 FALSE \n",
       "28  0.03200 0.0976 FALSE \n",
       "29  0.05600 0.0976 FALSE \n",
       "30  0.10000 0.0976 FALSE \n",
       "... ...     ...    ...   \n",
       "73  0.00100 0.0976 TRUE  \n",
       "74  0.00180 0.0976 TRUE  \n",
       "75  0.00320 0.0976 TRUE  \n",
       "76  0.00560 0.0976 TRUE  \n",
       "77  0.01000 0.0976 TRUE  \n",
       "78  0.01800 0.0976 TRUE  \n",
       "79  0.03200 0.0976 TRUE  \n",
       "80  0.05600 0.0976 TRUE  \n",
       "81  0.10000 0.0976 TRUE  \n",
       "82  0.18000 0.0976 TRUE  \n",
       "83  0.32000 0.0976 TRUE  \n",
       "84  0.56000 0.0976 TRUE  \n",
       "85  1.00000 0.0976 TRUE  \n",
       "86  0.00010 0.1366 TRUE  \n",
       "87  0.00018 0.1366 TRUE  \n",
       "88  0.00032 0.1366 TRUE  \n",
       "89  0.00056 0.1366 TRUE  \n",
       "90  0.00100 0.1366 TRUE  \n",
       "91  0.00180 0.1366 TRUE  \n",
       "92  0.00320 0.1366 TRUE  \n",
       "93  0.00560 0.1366 TRUE  \n",
       "94  0.01000 0.1366 TRUE  \n",
       "95  0.01800 0.1366 TRUE  \n",
       "96  0.03200 0.1366 TRUE  \n",
       "97  0.05600 0.1366 TRUE  \n",
       "98  0.10000 0.1366 TRUE  \n",
       "99  0.18000 0.1366 TRUE  \n",
       "100 0.32000 0.1366 TRUE  \n",
       "101 0.56000 0.1366 TRUE  \n",
       "102 1.00000 0.1366 TRUE  "
      ]
     },
     "metadata": {},
     "output_type": "display_data"
    }
   ],
   "source": [
    "(params <- expand.grid(p = p_seq, h2 = h2_seq, sparse = c(FALSE, TRUE)))"
   ]
  },
  {
   "cell_type": "code",
   "execution_count": 22,
   "id": "adjusted-melbourne",
   "metadata": {},
   "outputs": [],
   "source": [
    "# takes several minutes if you do not have many cores\n",
    "beta_grid <- snp_ldpred2_grid(corr, df_beta, params, ncores = NCORES)"
   ]
  },
  {
   "cell_type": "code",
   "execution_count": 23,
   "id": "supposed-vacation",
   "metadata": {},
   "outputs": [],
   "source": [
    "pred_grid <- big_prodMat(G, beta_grid, ind.col = ind.chr2)\n",
    "params$score <- big_univLogReg(as_FBM(pred_grid[ind.val, ]), y[ind.val])$score"
   ]
  },
  {
   "cell_type": "code",
   "execution_count": 24,
   "id": "finite-pleasure",
   "metadata": {},
   "outputs": [],
   "source": [
    "library(ggplot2)"
   ]
  },
  {
   "cell_type": "code",
   "execution_count": 25,
   "id": "deluxe-orlando",
   "metadata": {},
   "outputs": [
    {
     "data": {
      "image/png": "[encoded data removed]",
      "text/plain": [
       "plot without title"
      ]
     },
     "metadata": {
      "image/png": {
       "height": 420,
       "width": 420
      }
     },
     "output_type": "display_data"
    }
   ],
   "source": [
    "ggplot(params, aes(x = p, y = score, color = as.factor(h2))) +\n",
    "  theme_bigstatsr() +\n",
    "  geom_point() +\n",
    "  geom_line() +\n",
    "  scale_x_log10(breaks = 10^(-5:0), minor_breaks = params$p) +\n",
    "  facet_wrap(~ sparse, labeller = label_both) +\n",
    "  labs(y = \"GLM Z-Score\", color = \"h2\") +\n",
    "  theme(legend.position = \"top\", panel.spacing = unit(1, \"lines\"))"
   ]
  },
  {
   "cell_type": "code",
   "execution_count": 26,
   "id": "twelve-shuttle",
   "metadata": {},
   "outputs": [
    {
     "name": "stderr",
     "output_type": "stream",
     "text": [
      "\n",
      "Attaching package: 'dplyr'\n",
      "\n",
      "\n",
      "The following objects are masked from 'package:stats':\n",
      "\n",
      "    filter, lag\n",
      "\n",
      "\n",
      "The following objects are masked from 'package:base':\n",
      "\n",
      "    intersect, setdiff, setequal, union\n",
      "\n",
      "\n"
     ]
    }
   ],
   "source": [
    "library(dplyr)"
   ]
  },
  {
   "cell_type": "code",
   "execution_count": 27,
   "id": "lined-virgin",
   "metadata": {},
   "outputs": [
    {
     "data": {
      "text/html": [
       "<table class=\"dataframe\">\n",
       "<caption>A data.frame: 10 × 6</caption>\n",
       "<thead>\n",
       "\t<tr><th scope=col>p</th><th scope=col>h2</th><th scope=col>sparse</th><th scope=col>score</th><th scope=col>sparsity</th><th scope=col>id</th></tr>\n",
       "\t<tr><th scope=col>&lt;dbl&gt;</th><th scope=col>&lt;dbl&gt;</th><th scope=col>&lt;lgl&gt;</th><th scope=col>&lt;dbl&gt;</th><th scope=col>&lt;dbl&gt;</th><th scope=col>&lt;int&gt;</th></tr>\n",
       "</thead>\n",
       "<tbody>\n",
       "\t<tr><td>0.0056</td><td>0.0683</td><td> TRUE</td><td>4.293</td><td>0.589</td><td>59</td></tr>\n",
       "\t<tr><td>0.0320</td><td>0.1366</td><td>FALSE</td><td>4.286</td><td>0.000</td><td>45</td></tr>\n",
       "\t<tr><td>0.0032</td><td>0.0976</td><td> TRUE</td><td>4.285</td><td>0.574</td><td>75</td></tr>\n",
       "\t<tr><td>0.0056</td><td>0.0976</td><td> TRUE</td><td>4.284</td><td>0.572</td><td>76</td></tr>\n",
       "\t<tr><td>0.0100</td><td>0.0976</td><td> TRUE</td><td>4.282</td><td>0.573</td><td>77</td></tr>\n",
       "\t<tr><td>0.0560</td><td>0.1366</td><td>FALSE</td><td>4.282</td><td>0.000</td><td>46</td></tr>\n",
       "\t<tr><td>0.0560</td><td>0.1366</td><td> TRUE</td><td>4.280</td><td>0.560</td><td>97</td></tr>\n",
       "\t<tr><td>0.0018</td><td>0.1366</td><td>FALSE</td><td>4.279</td><td>0.000</td><td>40</td></tr>\n",
       "\t<tr><td>0.3200</td><td>0.0976</td><td> TRUE</td><td>4.278</td><td>0.584</td><td>83</td></tr>\n",
       "\t<tr><td>0.0320</td><td>0.0683</td><td> TRUE</td><td>4.278</td><td>0.592</td><td>62</td></tr>\n",
       "</tbody>\n",
       "</table>\n"
      ],
      "text/latex": [
       "A data.frame: 10 × 6\n",
       "\\begin{tabular}{llllll}\n",
       " p & h2 & sparse & score & sparsity & id\\\\\n",
       " <dbl> & <dbl> & <lgl> & <dbl> & <dbl> & <int>\\\\\n",
       "\\hline\n",
       "\t 0.0056 & 0.0683 &  TRUE & 4.293 & 0.589 & 59\\\\\n",
       "\t 0.0320 & 0.1366 & FALSE & 4.286 & 0.000 & 45\\\\\n",
       "\t 0.0032 & 0.0976 &  TRUE & 4.285 & 0.574 & 75\\\\\n",
       "\t 0.0056 & 0.0976 &  TRUE & 4.284 & 0.572 & 76\\\\\n",
       "\t 0.0100 & 0.0976 &  TRUE & 4.282 & 0.573 & 77\\\\\n",
       "\t 0.0560 & 0.1366 & FALSE & 4.282 & 0.000 & 46\\\\\n",
       "\t 0.0560 & 0.1366 &  TRUE & 4.280 & 0.560 & 97\\\\\n",
       "\t 0.0018 & 0.1366 & FALSE & 4.279 & 0.000 & 40\\\\\n",
       "\t 0.3200 & 0.0976 &  TRUE & 4.278 & 0.584 & 83\\\\\n",
       "\t 0.0320 & 0.0683 &  TRUE & 4.278 & 0.592 & 62\\\\\n",
       "\\end{tabular}\n"
      ],
      "text/markdown": [
       "\n",
       "A data.frame: 10 × 6\n",
       "\n",
       "| p &lt;dbl&gt; | h2 &lt;dbl&gt; | sparse &lt;lgl&gt; | score &lt;dbl&gt; | sparsity &lt;dbl&gt; | id &lt;int&gt; |\n",
       "|---|---|---|---|---|---|\n",
       "| 0.0056 | 0.0683 |  TRUE | 4.293 | 0.589 | 59 |\n",
       "| 0.0320 | 0.1366 | FALSE | 4.286 | 0.000 | 45 |\n",
       "| 0.0032 | 0.0976 |  TRUE | 4.285 | 0.574 | 75 |\n",
       "| 0.0056 | 0.0976 |  TRUE | 4.284 | 0.572 | 76 |\n",
       "| 0.0100 | 0.0976 |  TRUE | 4.282 | 0.573 | 77 |\n",
       "| 0.0560 | 0.1366 | FALSE | 4.282 | 0.000 | 46 |\n",
       "| 0.0560 | 0.1366 |  TRUE | 4.280 | 0.560 | 97 |\n",
       "| 0.0018 | 0.1366 | FALSE | 4.279 | 0.000 | 40 |\n",
       "| 0.3200 | 0.0976 |  TRUE | 4.278 | 0.584 | 83 |\n",
       "| 0.0320 | 0.0683 |  TRUE | 4.278 | 0.592 | 62 |\n",
       "\n"
      ],
      "text/plain": [
       "   p      h2     sparse score sparsity id\n",
       "1  0.0056 0.0683  TRUE  4.293 0.589    59\n",
       "2  0.0320 0.1366 FALSE  4.286 0.000    45\n",
       "3  0.0032 0.0976  TRUE  4.285 0.574    75\n",
       "4  0.0056 0.0976  TRUE  4.284 0.572    76\n",
       "5  0.0100 0.0976  TRUE  4.282 0.573    77\n",
       "6  0.0560 0.1366 FALSE  4.282 0.000    46\n",
       "7  0.0560 0.1366  TRUE  4.280 0.560    97\n",
       "8  0.0018 0.1366 FALSE  4.279 0.000    40\n",
       "9  0.3200 0.0976  TRUE  4.278 0.584    83\n",
       "10 0.0320 0.0683  TRUE  4.278 0.592    62"
      ]
     },
     "metadata": {},
     "output_type": "display_data"
    }
   ],
   "source": [
    "params %>%\n",
    "  mutate(sparsity = colMeans(beta_grid == 0), id = row_number()) %>%\n",
    "  arrange(desc(score)) %>%\n",
    "  mutate_at(c(\"score\", \"sparsity\"), round, digits = 3) %>%\n",
    "  slice(1:10)"
   ]
  },
  {
   "cell_type": "markdown",
   "id": "unavailable-behalf",
   "metadata": {},
   "source": [
    "You can then choose the best model according to your preferred criterion (e.g. max AUC). Here, we use the Z-Score from the regression of the phenotype by the PRS since we have found it more robust than using the AUC. It also enables adjusting for covariates in this step (using parameter covar.train in big_univLogReg() or big_univLinReg()).\n",
    "\n",
    "Also note that we separate both sparse and non-sparse models here (and in the paper) to show that their predictive performance are similar. In practice, if you do not really care about sparsity, you could choose the best LDpred2-grid model among all sparse and non-sparse models."
   ]
  },
  {
   "cell_type": "code",
   "execution_count": 28,
   "id": "extraordinary-project",
   "metadata": {},
   "outputs": [
    {
     "data": {
      "text/html": [
       "<style>\n",
       ".dl-inline {width: auto; margin:0; padding: 0}\n",
       ".dl-inline>dt, .dl-inline>dd {float: none; width: auto; display: inline-block}\n",
       ".dl-inline>dt::after {content: \":\\0020\"; padding-right: .5ex}\n",
       ".dl-inline>dt:not(:first-of-type) {padding-left: .5ex}\n",
       "</style><dl class=dl-inline><dt>Mean</dt><dd>0.668297949296717</dd><dt>2.5%</dt><dd>0.573912081569835</dd><dt>97.5%</dt><dd>0.759858612142243</dd><dt>Sd</dt><dd>0.0473452871736604</dd></dl>\n"
      ],
      "text/latex": [
       "\\begin{description*}\n",
       "\\item[Mean] 0.668297949296717\n",
       "\\item[2.5\\textbackslash{}\\%] 0.573912081569835\n",
       "\\item[97.5\\textbackslash{}\\%] 0.759858612142243\n",
       "\\item[Sd] 0.0473452871736604\n",
       "\\end{description*}\n"
      ],
      "text/markdown": [
       "Mean\n",
       ":   0.6682979492967172.5%\n",
       ":   0.57391208156983597.5%\n",
       ":   0.759858612142243Sd\n",
       ":   0.0473452871736604\n",
       "\n"
      ],
      "text/plain": [
       "      Mean       2.5%      97.5%         Sd \n",
       "0.66829795 0.57391208 0.75985861 0.04734529 "
      ]
     },
     "metadata": {},
     "output_type": "display_data"
    }
   ],
   "source": [
    "best_grid_nosp <- params %>%\n",
    "  mutate(id = row_number()) %>%\n",
    "  filter(!sparse) %>% \n",
    "  arrange(desc(score)) %>%\n",
    "  slice(1) %>%\n",
    "  pull(id) %>% \n",
    "  beta_grid[, .]\n",
    "\n",
    "pred_nosp <- big_prodVec(G, best_grid_nosp, ind.row = ind.test, ind.col = ind.chr2)\n",
    "AUCBoot(pred_nosp, y[ind.test])"
   ]
  },
  {
   "cell_type": "code",
   "execution_count": 29,
   "id": "concrete-small",
   "metadata": {},
   "outputs": [
    {
     "data": {
      "text/html": [
       "<style>\n",
       ".dl-inline {width: auto; margin:0; padding: 0}\n",
       ".dl-inline>dt, .dl-inline>dd {float: none; width: auto; display: inline-block}\n",
       ".dl-inline>dt::after {content: \":\\0020\"; padding-right: .5ex}\n",
       ".dl-inline>dt:not(:first-of-type) {padding-left: .5ex}\n",
       "</style><dl class=dl-inline><dt>Mean</dt><dd>0.673767770787055</dd><dt>2.5%</dt><dd>0.575607855224888</dd><dt>97.5%</dt><dd>0.767411203323192</dd><dt>Sd</dt><dd>0.048626264565106</dd></dl>\n"
      ],
      "text/latex": [
       "\\begin{description*}\n",
       "\\item[Mean] 0.673767770787055\n",
       "\\item[2.5\\textbackslash{}\\%] 0.575607855224888\n",
       "\\item[97.5\\textbackslash{}\\%] 0.767411203323192\n",
       "\\item[Sd] 0.048626264565106\n",
       "\\end{description*}\n"
      ],
      "text/markdown": [
       "Mean\n",
       ":   0.6737677707870552.5%\n",
       ":   0.57560785522488897.5%\n",
       ":   0.767411203323192Sd\n",
       ":   0.048626264565106\n",
       "\n"
      ],
      "text/plain": [
       "      Mean       2.5%      97.5%         Sd \n",
       "0.67376777 0.57560786 0.76741120 0.04862626 "
      ]
     },
     "metadata": {},
     "output_type": "display_data"
    }
   ],
   "source": [
    "best_grid_sp <- params %>%\n",
    "  mutate(id = row_number()) %>%\n",
    "  filter(sparse) %>% \n",
    "  arrange(desc(score)) %>%\n",
    "  slice(1) %>%\n",
    "  pull(id) %>% \n",
    "  beta_grid[, .]\n",
    "\n",
    "pred_sp <- big_prodVec(G, best_grid_sp, ind.row = ind.test, ind.col = ind.chr2)\n",
    "AUCBoot(pred_sp, y[ind.test])"
   ]
  },
  {
   "cell_type": "markdown",
   "id": "productive-consensus",
   "metadata": {},
   "source": [
    "## Automatic model\n",
    "We recommend to run many of them in parallel with different initial values for p (e.g. length.out = 30)."
   ]
  },
  {
   "cell_type": "code",
   "execution_count": 30,
   "id": "addressed-kentucky",
   "metadata": {},
   "outputs": [
    {
     "name": "stdout",
     "output_type": "stream",
     "text": [
      "List of 4\n",
      " $ :List of 8\n",
      "  ..$ beta_est   : num [1:44947] -1.17e-06 -5.33e-06 -8.73e-06 -7.82e-06 -8.15e-07 ...\n",
      "  ..$ postp_est  : num [1:44947] 0.126 0.126 0.126 0.126 0.126 ...\n",
      "  ..$ p_est      : num 0.126\n",
      "  ..$ h2_est     : num 0.00159\n",
      "  ..$ path_p_est : num [1:1500] 0.000102 0.000141 0.000106 0.000194 0.000184 ...\n",
      "  ..$ path_h2_est: num [1:1500] 0.0155 0.0365 0.0327 0.0643 0.0901 ...\n",
      "  ..$ h2_init    : num 0.0976\n",
      "  ..$ p_init     : num 1e-04\n",
      " $ :List of 8\n",
      "  ..$ beta_est   : num [1:44947] -1.59e-07 -7.26e-07 -1.19e-06 -1.07e-06 -1.12e-07 ...\n",
      "  ..$ postp_est  : num [1:44947] 0.0118 0.0118 0.0118 0.0118 0.0118 ...\n",
      "  ..$ p_est      : num 0.0118\n",
      "  ..$ h2_est     : num 0.000218\n",
      "  ..$ path_p_est : num [1:1500] 0.00184 0.00187 0.00203 0.00187 0.00185 ...\n",
      "  ..$ path_h2_est: num [1:1500] 0.101 0.116 0.145 0.138 0.144 ...\n",
      "  ..$ h2_init    : num 0.0976\n",
      "  ..$ p_init     : num 0.00208\n",
      " $ :List of 8\n",
      "  ..$ beta_est   : num [1:44947] -1.27e-06 -5.80e-06 -9.50e-06 -8.51e-06 -8.85e-07 ...\n",
      "  ..$ postp_est  : num [1:44947] 0.0511 0.0511 0.0511 0.0511 0.0511 ...\n",
      "  ..$ p_est      : num 0.0511\n",
      "  ..$ h2_est     : num 0.00173\n",
      "  ..$ path_p_est : num [1:1500] 0.0452 0.0458 0.0451 0.0442 0.0462 ...\n",
      "  ..$ path_h2_est: num [1:1500] 0.0921 0.0914 0.0835 0.0965 0.0946 ...\n",
      "  ..$ h2_init    : num 0.0976\n",
      "  ..$ p_init     : num 0.0433\n",
      " $ :List of 8\n",
      "  ..$ beta_est   : num [1:44947] -7.67e-06 -3.50e-05 -5.74e-05 -5.14e-05 -5.23e-06 ...\n",
      "  ..$ postp_est  : num [1:44947] 0.901 0.901 0.901 0.901 0.901 ...\n",
      "  ..$ p_est      : num 0.901\n",
      "  ..$ h2_est     : num 0.0105\n",
      "  ..$ path_p_est : num [1:1500] 0.898 0.899 0.896 0.895 0.897 ...\n",
      "  ..$ path_h2_est: num [1:1500] 0.0921 0.0896 0.0913 0.0909 0.0899 ...\n",
      "  ..$ h2_init    : num 0.0976\n",
      "  ..$ p_init     : num 0.9\n"
     ]
    }
   ],
   "source": [
    "# takes a few minutes\n",
    "multi_auto <- snp_ldpred2_auto(corr, df_beta, h2_init = h2_est,\n",
    "                               vec_p_init = seq_log(1e-4, 0.9, length.out = NCORES),\n",
    "                               ncores = NCORES)\n",
    "str(multi_auto)"
   ]
  },
  {
   "cell_type": "markdown",
   "id": "interpreted-folks",
   "metadata": {},
   "source": [
    "You should verify if the chains “converged”. You can look at the path of the chains, as shown below. In the paper, we propose an automatic way to filter bad chains by comparing the scale of the resulting predictions (see this [code](https://github.com/privefl/paper-ldpred2/blob/master/code/run-ldpred2-gwide.R#L108-L112), reproduced below).\n",
    "\n",
    "This is not the case here, which is probably because the data is so small."
   ]
  },
  {
   "cell_type": "code",
   "execution_count": 31,
   "id": "anonymous-indianapolis",
   "metadata": {},
   "outputs": [
    {
     "data": {
      "image/png": "[encoded data removed]",
      "text/plain": [
       "plot without title"
      ]
     },
     "metadata": {
      "image/png": {
       "height": 420,
       "width": 420
      }
     },
     "output_type": "display_data"
    }
   ],
   "source": [
    "auto <- multi_auto[[1]]\n",
    "plot_grid(\n",
    "  qplot(y = auto$path_p_est) + \n",
    "    theme_bigstatsr() + \n",
    "    geom_hline(yintercept = auto$p_est, col = \"blue\") +\n",
    "    scale_y_log10() +\n",
    "    labs(y = \"p\"),\n",
    "  qplot(y = auto$path_h2_est) + \n",
    "    theme_bigstatsr() + \n",
    "    geom_hline(yintercept = auto$h2_est, col = \"blue\") +\n",
    "    labs(y = \"h2\"),\n",
    "  ncol = 1, align = \"hv\"\n",
    ")"
   ]
  },
  {
   "cell_type": "code",
   "execution_count": 32,
   "id": "vietnamese-commodity",
   "metadata": {},
   "outputs": [],
   "source": [
    "beta_auto <- sapply(multi_auto, function(auto) auto$beta_est)\n",
    "pred_auto <- big_prodMat(G, beta_auto, ind.row = ind.test, ind.col = ind.chr2)"
   ]
  },
  {
   "cell_type": "code",
   "execution_count": 33,
   "id": "organic-capital",
   "metadata": {},
   "outputs": [],
   "source": [
    "sc <- apply(pred_auto, 2, sd)\n",
    "keep <- abs(sc - median(sc)) < 3 * mad(sc)\n",
    "final_beta_auto <- rowMeans(beta_auto[, keep])\n",
    "final_pred_auto <- rowMeans(pred_auto[, keep])"
   ]
  },
  {
   "cell_type": "code",
   "execution_count": 34,
   "id": "colonial-smart",
   "metadata": {},
   "outputs": [
    {
     "data": {
      "text/html": [
       "<style>\n",
       ".dl-inline {width: auto; margin:0; padding: 0}\n",
       ".dl-inline>dt, .dl-inline>dd {float: none; width: auto; display: inline-block}\n",
       ".dl-inline>dt::after {content: \":\\0020\"; padding-right: .5ex}\n",
       ".dl-inline>dt:not(:first-of-type) {padding-left: .5ex}\n",
       "</style><dl class=dl-inline><dt>Mean</dt><dd>0.669286618800011</dd><dt>2.5%</dt><dd>0.573230813199625</dd><dt>97.5%</dt><dd>0.759024382480265</dd><dt>Sd</dt><dd>0.0475611142010799</dd></dl>\n"
      ],
      "text/latex": [
       "\\begin{description*}\n",
       "\\item[Mean] 0.669286618800011\n",
       "\\item[2.5\\textbackslash{}\\%] 0.573230813199625\n",
       "\\item[97.5\\textbackslash{}\\%] 0.759024382480265\n",
       "\\item[Sd] 0.0475611142010799\n",
       "\\end{description*}\n"
      ],
      "text/markdown": [
       "Mean\n",
       ":   0.6692866188000112.5%\n",
       ":   0.57323081319962597.5%\n",
       ":   0.759024382480265Sd\n",
       ":   0.0475611142010799\n",
       "\n"
      ],
      "text/plain": [
       "      Mean       2.5%      97.5%         Sd \n",
       "0.66928662 0.57323081 0.75902438 0.04756111 "
      ]
     },
     "metadata": {},
     "output_type": "display_data"
    }
   ],
   "source": [
    "AUCBoot(final_pred_auto, y[ind.test])"
   ]
  },
  {
   "cell_type": "code",
   "execution_count": 35,
   "id": "vertical-berry",
   "metadata": {},
   "outputs": [
    {
     "data": {
      "text/html": [
       "<table class=\"dataframe\">\n",
       "<caption>A matrix: 2 × 6 of type dbl</caption>\n",
       "<thead>\n",
       "\t<tr><th></th><th scope=col>used</th><th scope=col>(Mb)</th><th scope=col>gc trigger</th><th scope=col>(Mb)</th><th scope=col>max used</th><th scope=col>(Mb)</th></tr>\n",
       "</thead>\n",
       "<tbody>\n",
       "\t<tr><th scope=row>Ncells</th><td> 2409400</td><td>128.7</td><td>  4449390</td><td> 237.7</td><td>  4449390</td><td> 237.7</td></tr>\n",
       "\t<tr><th scope=row>Vcells</th><td>54658055</td><td>417.1</td><td>161324136</td><td>1230.9</td><td>251908186</td><td>1922.0</td></tr>\n",
       "</tbody>\n",
       "</table>\n"
      ],
      "text/latex": [
       "A matrix: 2 × 6 of type dbl\n",
       "\\begin{tabular}{r|llllll}\n",
       "  & used & (Mb) & gc trigger & (Mb) & max used & (Mb)\\\\\n",
       "\\hline\n",
       "\tNcells &  2409400 & 128.7 &   4449390 &  237.7 &   4449390 &  237.7\\\\\n",
       "\tVcells & 54658055 & 417.1 & 161324136 & 1230.9 & 251908186 & 1922.0\\\\\n",
       "\\end{tabular}\n"
      ],
      "text/markdown": [
       "\n",
       "A matrix: 2 × 6 of type dbl\n",
       "\n",
       "| <!--/--> | used | (Mb) | gc trigger | (Mb) | max used | (Mb) |\n",
       "|---|---|---|---|---|---|---|\n",
       "| Ncells |  2409400 | 128.7 |   4449390 |  237.7 |   4449390 |  237.7 |\n",
       "| Vcells | 54658055 | 417.1 | 161324136 | 1230.9 | 251908186 | 1922.0 |\n",
       "\n"
      ],
      "text/plain": [
       "       used     (Mb)  gc trigger (Mb)   max used  (Mb)  \n",
       "Ncells  2409400 128.7   4449390   237.7   4449390  237.7\n",
       "Vcells 54658055 417.1 161324136  1230.9 251908186 1922.0"
      ]
     },
     "metadata": {},
     "output_type": "display_data"
    },
    {
     "data": {
      "text/html": [
       "TRUE"
      ],
      "text/latex": [
       "TRUE"
      ],
      "text/markdown": [
       "TRUE"
      ],
      "text/plain": [
       "[1] TRUE"
      ]
     },
     "metadata": {},
     "output_type": "display_data"
    }
   ],
   "source": [
    "# Some cleaning\n",
    "rm(corr); gc(); file.remove(paste0(tmp, \".sbk\"))"
   ]
  },
  {
   "cell_type": "markdown",
   "id": "taken-garage",
   "metadata": {},
   "source": [
    "## Conclusion\n",
    "We have seen how to run 3 versions of LDpred2 (“-inf”, “-grid” and “-auto”) for one chromosome.\n",
    "\n",
    "Note that we now recommend to run LDpred2 genome-wide, contrary to what was shown in the first versions of this tutorial. The only difference it makes is when building the SFBM (the sparse LD matrix on disk), you need to build it so that it contains all variants genome-wide (see e.g. [this code](https://github.com/privefl/paper-ldpred2/blob/master/code/run-ldpred2-gwide.R#L39-L64)).\n"
   ]
  }
 ],
 "metadata": {
  "kernelspec": {
   "display_name": "R",
   "language": "R",
   "name": "ir"
  },
  "language_info": {
   "codemirror_mode": "r",
   "file_extension": ".r",
   "mimetype": "text/x-r-source",
   "name": "R",
   "pygments_lexer": "r",
   "version": "4.0.3"
  }
 },
 "nbformat": 4,
 "nbformat_minor": 5
}
